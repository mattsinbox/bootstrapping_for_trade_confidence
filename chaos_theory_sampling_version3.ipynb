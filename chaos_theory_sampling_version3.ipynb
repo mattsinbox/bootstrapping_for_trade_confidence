{
 "cells": [
  {
   "cell_type": "code",
   "execution_count": 1,
   "metadata": {},
   "outputs": [],
   "source": [
    "#import libraries \n",
    "import pandas as pd\n",
    "import numpy as np\n"
   ]
  },
  {
   "cell_type": "code",
   "execution_count": 2,
   "metadata": {},
   "outputs": [],
   "source": [
    "import matplotlib.mlab as mlab\n",
    "import matplotlib.pyplot as plt\n",
    "\n",
    "# Pretty display for notebooks\n",
    "%matplotlib inline\n",
    "\n",
    "import seaborn as sns"
   ]
  },
  {
   "cell_type": "code",
   "execution_count": 3,
   "metadata": {},
   "outputs": [],
   "source": [
    "pd.options.display.max_columns = None"
   ]
  },
  {
   "cell_type": "code",
   "execution_count": 4,
   "metadata": {},
   "outputs": [],
   "source": [
    "#set variables\n",
    "trading_days_to_expiration = 8\n",
    "current_price = 10415\n",
    "straddle_price = 965\n",
    "downside_risk = 950\n",
    "upside_potential = 11000"
   ]
  },
  {
   "cell_type": "code",
   "execution_count": 5,
   "metadata": {},
   "outputs": [],
   "source": [
    "#function to read and format csv file \n",
    "#input: file\n",
    "#output: df without NaNs, proper format\n",
    "\n",
    "def read_format(file):\n",
    "    df = pd.read_csv(file, header=0, parse_dates=True)\n",
    "    #df = df.drop(df.tail(2).index)\n",
    "    #df['Open Interest'].fillna(method='ffill', inplace=True)\n",
    "    \n",
    "    \n",
    "    return df"
   ]
  },
  {
   "cell_type": "code",
   "execution_count": 6,
   "metadata": {},
   "outputs": [],
   "source": [
    "# set files to a variable\n",
    "file_one = r\"C:\\Users\\Matt\\Desktop\\data\\subject_data.csv\""
   ]
  },
  {
   "cell_type": "code",
   "execution_count": 7,
   "metadata": {},
   "outputs": [],
   "source": [
    "# read in and clean csv files to a data frame \n",
    "eur = read_format(file_one)"
   ]
  },
  {
   "cell_type": "code",
   "execution_count": 8,
   "metadata": {},
   "outputs": [
    {
     "data": {
      "text/html": [
       "<div>\n",
       "<style scoped>\n",
       "    .dataframe tbody tr th:only-of-type {\n",
       "        vertical-align: middle;\n",
       "    }\n",
       "\n",
       "    .dataframe tbody tr th {\n",
       "        vertical-align: top;\n",
       "    }\n",
       "\n",
       "    .dataframe thead th {\n",
       "        text-align: right;\n",
       "    }\n",
       "</style>\n",
       "<table border=\"1\" class=\"dataframe\">\n",
       "  <thead>\n",
       "    <tr style=\"text-align: right;\">\n",
       "      <th></th>\n",
       "      <th>Date Time</th>\n",
       "      <th>Open</th>\n",
       "      <th>High</th>\n",
       "      <th>Low</th>\n",
       "      <th>Close</th>\n",
       "      <th>Change</th>\n",
       "      <th>Volume</th>\n",
       "    </tr>\n",
       "  </thead>\n",
       "  <tbody>\n",
       "    <tr>\n",
       "      <th>809</th>\n",
       "      <td>2/10/2020</td>\n",
       "      <td>9742.78</td>\n",
       "      <td>10186.32</td>\n",
       "      <td>9663.01</td>\n",
       "      <td>9865.20</td>\n",
       "      <td>122.42</td>\n",
       "      <td>40326</td>\n",
       "    </tr>\n",
       "    <tr>\n",
       "      <th>810</th>\n",
       "      <td>2/11/2020</td>\n",
       "      <td>9865.20</td>\n",
       "      <td>10345.26</td>\n",
       "      <td>9714.74</td>\n",
       "      <td>10234.34</td>\n",
       "      <td>369.14</td>\n",
       "      <td>46855</td>\n",
       "    </tr>\n",
       "    <tr>\n",
       "      <th>811</th>\n",
       "      <td>2/12/2020</td>\n",
       "      <td>10234.35</td>\n",
       "      <td>10474.59</td>\n",
       "      <td>10213.92</td>\n",
       "      <td>10381.52</td>\n",
       "      <td>147.18</td>\n",
       "      <td>60309</td>\n",
       "    </tr>\n",
       "    <tr>\n",
       "      <th>812</th>\n",
       "      <td>2/13/2020</td>\n",
       "      <td>10381.52</td>\n",
       "      <td>10499.36</td>\n",
       "      <td>10086.25</td>\n",
       "      <td>10182.03</td>\n",
       "      <td>-199.49</td>\n",
       "      <td>60700</td>\n",
       "    </tr>\n",
       "    <tr>\n",
       "      <th>813</th>\n",
       "      <td>2/14/2020</td>\n",
       "      <td>10184.26</td>\n",
       "      <td>10333.90</td>\n",
       "      <td>10103.74</td>\n",
       "      <td>10254.37</td>\n",
       "      <td>72.34</td>\n",
       "      <td>26637</td>\n",
       "    </tr>\n",
       "  </tbody>\n",
       "</table>\n",
       "</div>"
      ],
      "text/plain": [
       "     Date Time      Open      High       Low     Close  Change  Volume\n",
       "809  2/10/2020   9742.78  10186.32   9663.01   9865.20  122.42   40326\n",
       "810  2/11/2020   9865.20  10345.26   9714.74  10234.34  369.14   46855\n",
       "811  2/12/2020  10234.35  10474.59  10213.92  10381.52  147.18   60309\n",
       "812  2/13/2020  10381.52  10499.36  10086.25  10182.03 -199.49   60700\n",
       "813  2/14/2020  10184.26  10333.90  10103.74  10254.37   72.34   26637"
      ]
     },
     "execution_count": 8,
     "metadata": {},
     "output_type": "execute_result"
    }
   ],
   "source": [
    "eur.tail()"
   ]
  },
  {
   "cell_type": "code",
   "execution_count": 9,
   "metadata": {},
   "outputs": [
    {
     "data": {
      "text/plain": [
       "814"
      ]
     },
     "execution_count": 9,
     "metadata": {},
     "output_type": "execute_result"
    }
   ],
   "source": [
    "len(eur)"
   ]
  },
  {
   "cell_type": "code",
   "execution_count": 10,
   "metadata": {},
   "outputs": [],
   "source": [
    "days_to_train = 88"
   ]
  },
  {
   "cell_type": "code",
   "execution_count": 11,
   "metadata": {},
   "outputs": [],
   "source": [
    "new_df = eur.iloc[-days_to_train:].copy()"
   ]
  },
  {
   "cell_type": "code",
   "execution_count": 12,
   "metadata": {},
   "outputs": [
    {
     "data": {
      "text/html": [
       "<div>\n",
       "<style scoped>\n",
       "    .dataframe tbody tr th:only-of-type {\n",
       "        vertical-align: middle;\n",
       "    }\n",
       "\n",
       "    .dataframe tbody tr th {\n",
       "        vertical-align: top;\n",
       "    }\n",
       "\n",
       "    .dataframe thead th {\n",
       "        text-align: right;\n",
       "    }\n",
       "</style>\n",
       "<table border=\"1\" class=\"dataframe\">\n",
       "  <thead>\n",
       "    <tr style=\"text-align: right;\">\n",
       "      <th></th>\n",
       "      <th>Date Time</th>\n",
       "      <th>Open</th>\n",
       "      <th>High</th>\n",
       "      <th>Low</th>\n",
       "      <th>Close</th>\n",
       "      <th>Change</th>\n",
       "      <th>Volume</th>\n",
       "    </tr>\n",
       "  </thead>\n",
       "  <tbody>\n",
       "    <tr>\n",
       "      <th>726</th>\n",
       "      <td>10/16/2019</td>\n",
       "      <td>8154.07</td>\n",
       "      <td>8184.12</td>\n",
       "      <td>7935.69</td>\n",
       "      <td>7994.73</td>\n",
       "      <td>-158.89</td>\n",
       "      <td>33404</td>\n",
       "    </tr>\n",
       "    <tr>\n",
       "      <th>727</th>\n",
       "      <td>10/17/2019</td>\n",
       "      <td>7994.74</td>\n",
       "      <td>8135.05</td>\n",
       "      <td>7948.98</td>\n",
       "      <td>8055.67</td>\n",
       "      <td>60.94</td>\n",
       "      <td>22213</td>\n",
       "    </tr>\n",
       "    <tr>\n",
       "      <th>728</th>\n",
       "      <td>10/18/2019</td>\n",
       "      <td>8053.18</td>\n",
       "      <td>8124.74</td>\n",
       "      <td>7849.62</td>\n",
       "      <td>7953.39</td>\n",
       "      <td>-102.28</td>\n",
       "      <td>27679</td>\n",
       "    </tr>\n",
       "    <tr>\n",
       "      <th>729</th>\n",
       "      <td>10/21/2019</td>\n",
       "      <td>7953.25</td>\n",
       "      <td>8356.03</td>\n",
       "      <td>7897.08</td>\n",
       "      <td>8210.56</td>\n",
       "      <td>257.17</td>\n",
       "      <td>25219</td>\n",
       "    </tr>\n",
       "    <tr>\n",
       "      <th>730</th>\n",
       "      <td>10/22/2019</td>\n",
       "      <td>8210.56</td>\n",
       "      <td>8315.97</td>\n",
       "      <td>8096.17</td>\n",
       "      <td>8135.08</td>\n",
       "      <td>-75.48</td>\n",
       "      <td>21558</td>\n",
       "    </tr>\n",
       "  </tbody>\n",
       "</table>\n",
       "</div>"
      ],
      "text/plain": [
       "      Date Time     Open     High      Low    Close  Change  Volume\n",
       "726  10/16/2019  8154.07  8184.12  7935.69  7994.73 -158.89   33404\n",
       "727  10/17/2019  7994.74  8135.05  7948.98  8055.67   60.94   22213\n",
       "728  10/18/2019  8053.18  8124.74  7849.62  7953.39 -102.28   27679\n",
       "729  10/21/2019  7953.25  8356.03  7897.08  8210.56  257.17   25219\n",
       "730  10/22/2019  8210.56  8315.97  8096.17  8135.08  -75.48   21558"
      ]
     },
     "execution_count": 12,
     "metadata": {},
     "output_type": "execute_result"
    }
   ],
   "source": [
    "new_df.head()"
   ]
  },
  {
   "cell_type": "code",
   "execution_count": 13,
   "metadata": {},
   "outputs": [],
   "source": [
    "'''\n",
    "    Objective:  sample a dataframe for the historical volatility, find the mean over the iterations and probability \n",
    "                that vol is greater than a certain vol over that period.  \n",
    "    INPUT:\n",
    "    dataframe: the dataframe to sample from\n",
    "    iterations: how many iterations\n",
    "    range_btw_dates: range of dates to sample in consecutive order\n",
    "    \n",
    "    straddle_to_compare: straddle to calculate what percentage of the iterations were greater \n",
    "    lost_threshold: straddle of stop loss to calculate what percentage of the iterations were greater, \n",
    "    the downside stop loss percentage\n",
    "    profit_objective: straddle of objective profit to calculate what percentage of the iterations were greater, \n",
    "    the upside, profit taking\n",
    "    \n",
    "    OUTPUT:\n",
    "    Return the list of sample means, print a variety of statistics around the sample means.  \n",
    "'''\n",
    "\n",
    "def option_calc_group_days(df, iterations, range_btw_dates, straddle_to_compare,\n",
    "                           lost_threshold, profit_objective, current_price, replace = True):\n",
    "    x = 0\n",
    "    moves = []\n",
    "    max_index = len(df) - range_btw_dates\n",
    "    while x < iterations:\n",
    "        #sample a row\n",
    "        the_sample = df.sample()\n",
    "        #grab the index number\n",
    "        the_sample_index = df.index.get_loc(the_sample.iloc[0].name)\n",
    "        \n",
    "        #ensure the_start_index does not run off the table\n",
    "        if the_sample_index < range_btw_dates:\n",
    "            the_start_index = np.abs(the_sample_index - range_btw_dates)\n",
    "        else:\n",
    "            the_start_index = the_sample_index - range_btw_dates\n",
    "            \n",
    "            \n",
    "        #create the range distance between start of index and btwn_the_dates  \n",
    "        plus_the_index = the_start_index + range_btw_dates\n",
    "        \n",
    "        the_new_df = df[the_start_index:plus_the_index]\n",
    "        start_price = the_new_df.head(1)['Close'].iloc[0]\n",
    "        end_price = the_new_df.tail(1)['Close'].iloc[0]\n",
    "        \n",
    "        #calculate the move and multiply by two for straddle price\n",
    "        \n",
    "        the_move = ((np.abs(start_price - end_price)) / start_price)\n",
    "        \n",
    "        the_move = (current_price * (the_move + 1)) - current_price\n",
    "        \n",
    "        moves.append(the_move)\n",
    "    \n",
    "        x = x + 1 \n",
    "    mean = np.mean(moves)\n",
    "    median = np.median(moves)\n",
    "    \n",
    "    mean = round(mean, 5)\n",
    "    per_above_vol = round((len([i for i in moves if i > straddle_to_compare]) )/iterations, 4)\n",
    "    \n",
    "    per_above_lost_threshold = round((len([i for i in moves if i > lost_threshold]) )/iterations, 4)\n",
    "    \n",
    "    per_above_profit_objective = round((len([i for i in moves if i > profit_objective]) )/iterations, 4)\n",
    "    \n",
    "    \n",
    "    min_move = round(min(moves), 5)\n",
    "    max_move = round(max(moves), 5)\n",
    "    \n",
    "    \n",
    "    \n",
    "    \n",
    "    print('The date range includes',len(df), 'days')\n",
    "    print(range_btw_dates, 'day time periods were sampled')\n",
    "    print('The straddle price as per the mean move is:', mean)\n",
    "    print('The straddle price as per the median move is:', median)\n",
    "    print('The max straddle in the sample was:', max_move)\n",
    "    print('The min straddle in the sample was:', min_move)\n",
    "    print('The percentage of sample groups that had mean straddles above', straddle_to_compare , 'is:',\n",
    "          per_above_vol)\n",
    "    print('The percentage of sample groups that had mean straddles above', lost_threshold , 'is:',\n",
    "          per_above_lost_threshold)\n",
    "    print('The percentage of sample groups that had mean straddles above', profit_objective , 'is:',\n",
    "          per_above_profit_objective)\n",
    "    \n",
    "    \n",
    "    return moves\n",
    "    \n",
    "    \n"
   ]
  },
  {
   "cell_type": "code",
   "execution_count": 14,
   "metadata": {},
   "outputs": [
    {
     "name": "stdout",
     "output_type": "stream",
     "text": [
      "The date range includes 88 days\n",
      "8 day time periods were sampled\n",
      "The straddle price as per the mean move is: 863.93844\n",
      "The straddle price as per the median move is: 792.4034900619445\n",
      "The max straddle in the sample was: 2767.65946\n",
      "The min straddle in the sample was: 3.23284\n",
      "The percentage of sample groups that had mean straddles above 965 is: 0.3677\n",
      "The percentage of sample groups that had mean straddles above 950 is: 0.3677\n",
      "The percentage of sample groups that had mean straddles above 11000 is: 0.0\n"
     ]
    }
   ],
   "source": [
    "the_list = option_calc_group_days(new_df, 10000, trading_days_to_expiration, \n",
    "                                  straddle_price, downside_risk, upside_potential, \n",
    "                                  current_price,  replace = True)"
   ]
  },
  {
   "cell_type": "code",
   "execution_count": null,
   "metadata": {},
   "outputs": [],
   "source": []
  },
  {
   "cell_type": "code",
   "execution_count": null,
   "metadata": {},
   "outputs": [],
   "source": [
    "\n",
    "    "
   ]
  },
  {
   "cell_type": "code",
   "execution_count": null,
   "metadata": {},
   "outputs": [],
   "source": []
  },
  {
   "cell_type": "code",
   "execution_count": 15,
   "metadata": {},
   "outputs": [
    {
     "data": {
      "image/png": "[encoded data removed]",
      "text/plain": [
       "<Figure size 432x288 with 1 Axes>"
      ]
     },
     "metadata": {},
     "output_type": "display_data"
    }
   ],
   "source": [
    "num_bins = 50\n",
    "x = the_list\n",
    "n, bins, patches = plt.hist(x, num_bins, facecolor='blue', alpha=0.5)\n",
    "plt.show()"
   ]
  },
  {
   "cell_type": "code",
   "execution_count": null,
   "metadata": {},
   "outputs": [],
   "source": []
  },
  {
   "cell_type": "code",
   "execution_count": 16,
   "metadata": {},
   "outputs": [
    {
     "data": {
      "image/png": "[encoded data removed]",
      "text/plain": [
       "<Figure size 432x288 with 1 Axes>"
      ]
     },
     "metadata": {},
     "output_type": "display_data"
    }
   ],
   "source": [
    "num_bins = 50\n",
    "x = the_list\n",
    "n, bins, patches = plt.hist(x, bins = [100, 500, 1000, 2000, 3000, 4000, 8000, 10000], facecolor='blue', alpha=0.5)\n",
    "plt.show()"
   ]
  },
  {
   "cell_type": "code",
   "execution_count": 17,
   "metadata": {},
   "outputs": [
    {
     "data": {
      "image/png": "[encoded data removed]",
      "text/plain": [
       "<Figure size 432x288 with 1 Axes>"
      ]
     },
     "metadata": {},
     "output_type": "display_data"
    }
   ],
   "source": [
    "num_bins = 50\n",
    "t = [250, 500, 750, 1000, 1500, 2000, 3000, 5000, 10000]\n",
    "x = the_list\n",
    "n, bins, patches = plt.hist(x, bins = 50, \n",
    "                            density = True, facecolor='blue', alpha=0.5)\n",
    "plt.xticks(t)\n",
    "plt.rcParams['figure.figsize'] = (20,20)\n",
    "plt.show()"
   ]
  },
  {
   "cell_type": "code",
   "execution_count": 18,
   "metadata": {},
   "outputs": [],
   "source": [
    "#create function that only returns the list of moves \n",
    "\n",
    "def moves_list(df, iterations, range_btw_dates, current_price, replace = True):\n",
    "    x = 0\n",
    "    moves = []\n",
    "    max_index = len(df) - range_btw_dates\n",
    "    while x < iterations:\n",
    "        #sample a row\n",
    "        the_sample = df.sample()\n",
    "        #grab the index number\n",
    "        the_sample_index = df.index.get_loc(the_sample.iloc[0].name)\n",
    "        \n",
    "        #ensure the_start_index does not run off the table\n",
    "        if the_sample_index < range_btw_dates:\n",
    "            the_start_index = np.abs(the_sample_index - range_btw_dates)\n",
    "        else:\n",
    "            the_start_index = the_sample_index - range_btw_dates\n",
    "            \n",
    "            \n",
    "        #create the range distance between start of index and btwn_the_dates  \n",
    "        plus_the_index = the_start_index + range_btw_dates\n",
    "        \n",
    "        the_new_df = df[the_start_index:plus_the_index]\n",
    "        start_price = the_new_df.head(1)['Close'].iloc[0]\n",
    "        end_price = the_new_df.tail(1)['Close'].iloc[0]\n",
    "        \n",
    "        #calculate the move and multiply by two for straddle price\n",
    "        \n",
    "        the_move = ((np.abs(start_price - end_price)) / start_price)\n",
    "        \n",
    "        the_move = (current_price * (the_move + 1)) - current_price\n",
    "        \n",
    "        moves.append(the_move)\n",
    "    \n",
    "        x = x + 1 \n",
    "    \n",
    "    \n",
    "    return moves"
   ]
  },
  {
   "cell_type": "code",
   "execution_count": null,
   "metadata": {},
   "outputs": [],
   "source": []
  },
  {
   "cell_type": "code",
   "execution_count": null,
   "metadata": {},
   "outputs": [],
   "source": []
  },
  {
   "cell_type": "code",
   "execution_count": 19,
   "metadata": {},
   "outputs": [],
   "source": [
    "#create function that takes a variety of different periods of time to train and compares\n",
    "def straddle_for_many_range_of_days(df, min_days, max_days, iterations, step, current_price, days):\n",
    "    x = min_days\n",
    "    dict_of_straddles = {}\n",
    "    while x <= max_days:\n",
    "        days_in_sample_set = x\n",
    "        train_df = df.iloc[-days_in_sample_set:].copy()\n",
    "        #use moves_list to create the list of moves\n",
    "        list_of_moves = moves_list(train_df, iterations, days, current_price)\n",
    "        mean_of_moves = np.mean(list_of_moves)\n",
    "        dict_of_straddles[x] = round(mean_of_moves, 4)\n",
    "        \n",
    "        x = x + step\n",
    "        \n",
    "    return dict_of_straddles  \n",
    "        \n",
    "        \n",
    "        "
   ]
  },
  {
   "cell_type": "code",
   "execution_count": 20,
   "metadata": {},
   "outputs": [
    {
     "data": {
      "text/plain": [
       "{50: 633.3025,\n",
       " 100: 703.1393,\n",
       " 150: 830.9085,\n",
       " 200: 898.1064,\n",
       " 250: 949.3723,\n",
       " 300: 879.517,\n",
       " 350: 889.9942,\n",
       " 400: 861.4742,\n",
       " 450: 898.5855,\n",
       " 500: 924.639,\n",
       " 550: 984.6193,\n",
       " 600: 1047.8795}"
      ]
     },
     "execution_count": 20,
     "metadata": {},
     "output_type": "execute_result"
    }
   ],
   "source": [
    "bitcoin_straddles = straddle_for_many_range_of_days(eur, 50, 600, 10000, 50, current_price, \n",
    "                                                    trading_days_to_expiration)\n",
    "bitcoin_straddles"
   ]
  },
  {
   "cell_type": "code",
   "execution_count": 21,
   "metadata": {},
   "outputs": [
    {
     "data": {
      "text/plain": [
       "875.1281"
      ]
     },
     "execution_count": 21,
     "metadata": {},
     "output_type": "execute_result"
    }
   ],
   "source": [
    "from statistics import mean\n",
    "round(mean(bitcoin_straddles[k] for k in bitcoin_straddles), 4)"
   ]
  },
  {
   "cell_type": "code",
   "execution_count": 22,
   "metadata": {},
   "outputs": [
    {
     "data": {
      "image/png": "[encoded data removed]",
      "text/plain": [
       "<Figure size 1440x1440 with 1 Axes>"
      ]
     },
     "metadata": {},
     "output_type": "display_data"
    }
   ],
   "source": [
    "import pylab as pl\n",
    "import numpy as np\n",
    "\n",
    "straddle = straddle_price\n",
    "d = bitcoin_straddles\n",
    "X = np.arange(len(d))\n",
    "pl.bar(X, d.values(), align='center', width=0.75)\n",
    "pl.xticks(X, d.keys())\n",
    "#ymax = max(d.values()) + 1\n",
    "#pl.ylim(0, ymax)\n",
    "\n",
    "\n",
    "pl.title('Straddle Prices versus Data Range ')\n",
    "pl.xlabel('Range of Previous Days in Data Set')\n",
    "pl.ylabel('Straddle Prices')\n",
    "pl.axhline(straddle, color=\"gray\")\n",
    "#pl.figure(figsize=(3,4))\n",
    "pl.show()"
   ]
  },
  {
   "cell_type": "code",
   "execution_count": null,
   "metadata": {},
   "outputs": [],
   "source": []
  }
 ],
 "metadata": {
  "kernelspec": {
   "display_name": "Python 3",
   "language": "python",
   "name": "python3"
  },
  "language_info": {
   "codemirror_mode": {
    "name": "ipython",
    "version": 3
   },
   "file_extension": ".py",
   "mimetype": "text/x-python",
   "name": "python",
   "nbconvert_exporter": "python",
   "pygments_lexer": "ipython3",
   "version": "3.6.5"
  }
 },
 "nbformat": 4,
 "nbformat_minor": 2
}
