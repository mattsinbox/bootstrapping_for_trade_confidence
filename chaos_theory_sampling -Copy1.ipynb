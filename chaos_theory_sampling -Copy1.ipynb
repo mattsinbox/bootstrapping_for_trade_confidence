{
 "cells": [
  {
   "cell_type": "code",
   "execution_count": 1,
   "metadata": {},
   "outputs": [],
   "source": [
    "#import libraries \n",
    "import pandas as pd\n",
    "import numpy as np\n"
   ]
  },
  {
   "cell_type": "code",
   "execution_count": 2,
   "metadata": {},
   "outputs": [],
   "source": [
    "import matplotlib.mlab as mlab\n",
    "import matplotlib.pyplot as plt\n",
    "\n",
    "# Pretty display for notebooks\n",
    "%matplotlib inline\n",
    "\n",
    "import seaborn as sns"
   ]
  },
  {
   "cell_type": "code",
   "execution_count": 3,
   "metadata": {},
   "outputs": [],
   "source": [
    "pd.options.display.max_columns = None"
   ]
  },
  {
   "cell_type": "code",
   "execution_count": 4,
   "metadata": {},
   "outputs": [],
   "source": [
    "#function to read and format csv file \n",
    "#input: file\n",
    "#output: df without NaNs, proper format\n",
    "\n",
    "def read_format(file):\n",
    "    df = pd.read_csv(file, header=1, parse_dates=True)\n",
    "    df = df.drop(df.tail(2).index)\n",
    "    #df['Open Interest'].fillna(method='ffill', inplace=True)\n",
    "    \n",
    "    \n",
    "    return df"
   ]
  },
  {
   "cell_type": "code",
   "execution_count": 5,
   "metadata": {},
   "outputs": [],
   "source": [
    "# set files to a variable\n",
    "file_one = r\"C:\\Users\\Matt\\Desktop\\eur_data_cash.csv\""
   ]
  },
  {
   "cell_type": "code",
   "execution_count": 6,
   "metadata": {},
   "outputs": [],
   "source": [
    "# read in and clean csv files to a data frame \n",
    "eur = read_format(file_one)"
   ]
  },
  {
   "cell_type": "code",
   "execution_count": 7,
   "metadata": {},
   "outputs": [
    {
     "data": {
      "text/html": [
       "<div>\n",
       "<style scoped>\n",
       "    .dataframe tbody tr th:only-of-type {\n",
       "        vertical-align: middle;\n",
       "    }\n",
       "\n",
       "    .dataframe tbody tr th {\n",
       "        vertical-align: top;\n",
       "    }\n",
       "\n",
       "    .dataframe thead th {\n",
       "        text-align: right;\n",
       "    }\n",
       "</style>\n",
       "<table border=\"1\" class=\"dataframe\">\n",
       "  <thead>\n",
       "    <tr style=\"text-align: right;\">\n",
       "      <th></th>\n",
       "      <th>Date Time</th>\n",
       "      <th>Open</th>\n",
       "      <th>High</th>\n",
       "      <th>Low</th>\n",
       "      <th>Close</th>\n",
       "      <th>Change</th>\n",
       "      <th>Volume</th>\n",
       "    </tr>\n",
       "  </thead>\n",
       "  <tbody>\n",
       "    <tr>\n",
       "      <th>0</th>\n",
       "      <td>1/9/2012</td>\n",
       "      <td>1.26870</td>\n",
       "      <td>1.27840</td>\n",
       "      <td>1.26658</td>\n",
       "      <td>1.27638</td>\n",
       "      <td>0.00000</td>\n",
       "      <td>342840.0</td>\n",
       "    </tr>\n",
       "    <tr>\n",
       "      <th>1</th>\n",
       "      <td>1/10/2012</td>\n",
       "      <td>1.27645</td>\n",
       "      <td>1.28169</td>\n",
       "      <td>1.27430</td>\n",
       "      <td>1.27767</td>\n",
       "      <td>0.00129</td>\n",
       "      <td>342942.0</td>\n",
       "    </tr>\n",
       "    <tr>\n",
       "      <th>2</th>\n",
       "      <td>1/11/2012</td>\n",
       "      <td>1.27760</td>\n",
       "      <td>1.27890</td>\n",
       "      <td>1.26639</td>\n",
       "      <td>1.27053</td>\n",
       "      <td>-0.00714</td>\n",
       "      <td>353486.0</td>\n",
       "    </tr>\n",
       "    <tr>\n",
       "      <th>3</th>\n",
       "      <td>1/12/2012</td>\n",
       "      <td>1.27060</td>\n",
       "      <td>1.28440</td>\n",
       "      <td>1.26993</td>\n",
       "      <td>1.28134</td>\n",
       "      <td>0.01081</td>\n",
       "      <td>352859.0</td>\n",
       "    </tr>\n",
       "    <tr>\n",
       "      <th>4</th>\n",
       "      <td>1/13/2012</td>\n",
       "      <td>1.28120</td>\n",
       "      <td>1.28770</td>\n",
       "      <td>1.26257</td>\n",
       "      <td>1.26782</td>\n",
       "      <td>-0.01352</td>\n",
       "      <td>382726.0</td>\n",
       "    </tr>\n",
       "  </tbody>\n",
       "</table>\n",
       "</div>"
      ],
      "text/plain": [
       "   Date Time     Open     High      Low    Close   Change    Volume\n",
       "0   1/9/2012  1.26870  1.27840  1.26658  1.27638  0.00000  342840.0\n",
       "1  1/10/2012  1.27645  1.28169  1.27430  1.27767  0.00129  342942.0\n",
       "2  1/11/2012  1.27760  1.27890  1.26639  1.27053 -0.00714  353486.0\n",
       "3  1/12/2012  1.27060  1.28440  1.26993  1.28134  0.01081  352859.0\n",
       "4  1/13/2012  1.28120  1.28770  1.26257  1.26782 -0.01352  382726.0"
      ]
     },
     "execution_count": 7,
     "metadata": {},
     "output_type": "execute_result"
    }
   ],
   "source": [
    "eur.head()"
   ]
  },
  {
   "cell_type": "code",
   "execution_count": 8,
   "metadata": {},
   "outputs": [
    {
     "data": {
      "text/plain": [
       "2064"
      ]
     },
     "execution_count": 8,
     "metadata": {},
     "output_type": "execute_result"
    }
   ],
   "source": [
    "len(eur)"
   ]
  },
  {
   "cell_type": "code",
   "execution_count": 9,
   "metadata": {},
   "outputs": [],
   "source": [
    "days_to_train = 42"
   ]
  },
  {
   "cell_type": "code",
   "execution_count": 10,
   "metadata": {},
   "outputs": [],
   "source": [
    "new_df = eur.iloc[-days_to_train:].copy()"
   ]
  },
  {
   "cell_type": "code",
   "execution_count": 11,
   "metadata": {},
   "outputs": [
    {
     "data": {
      "text/html": [
       "<div>\n",
       "<style scoped>\n",
       "    .dataframe tbody tr th:only-of-type {\n",
       "        vertical-align: middle;\n",
       "    }\n",
       "\n",
       "    .dataframe tbody tr th {\n",
       "        vertical-align: top;\n",
       "    }\n",
       "\n",
       "    .dataframe thead th {\n",
       "        text-align: right;\n",
       "    }\n",
       "</style>\n",
       "<table border=\"1\" class=\"dataframe\">\n",
       "  <thead>\n",
       "    <tr style=\"text-align: right;\">\n",
       "      <th></th>\n",
       "      <th>Date Time</th>\n",
       "      <th>Open</th>\n",
       "      <th>High</th>\n",
       "      <th>Low</th>\n",
       "      <th>Close</th>\n",
       "      <th>Change</th>\n",
       "      <th>Volume</th>\n",
       "    </tr>\n",
       "  </thead>\n",
       "  <tbody>\n",
       "    <tr>\n",
       "      <th>2059</th>\n",
       "      <td>12/16/2019</td>\n",
       "      <td>1.11295</td>\n",
       "      <td>1.11577</td>\n",
       "      <td>1.11225</td>\n",
       "      <td>1.11433</td>\n",
       "      <td>0.00255</td>\n",
       "      <td>114831.0</td>\n",
       "    </tr>\n",
       "    <tr>\n",
       "      <th>2060</th>\n",
       "      <td>12/17/2019</td>\n",
       "      <td>1.11433</td>\n",
       "      <td>1.11740</td>\n",
       "      <td>1.11290</td>\n",
       "      <td>1.11500</td>\n",
       "      <td>0.00067</td>\n",
       "      <td>141052.0</td>\n",
       "    </tr>\n",
       "    <tr>\n",
       "      <th>2061</th>\n",
       "      <td>12/18/2019</td>\n",
       "      <td>1.11498</td>\n",
       "      <td>1.11538</td>\n",
       "      <td>1.11104</td>\n",
       "      <td>1.11122</td>\n",
       "      <td>-0.00378</td>\n",
       "      <td>121727.0</td>\n",
       "    </tr>\n",
       "    <tr>\n",
       "      <th>2062</th>\n",
       "      <td>12/19/2019</td>\n",
       "      <td>1.11123</td>\n",
       "      <td>1.11438</td>\n",
       "      <td>1.11073</td>\n",
       "      <td>1.11196</td>\n",
       "      <td>0.00074</td>\n",
       "      <td>139068.0</td>\n",
       "    </tr>\n",
       "    <tr>\n",
       "      <th>2063</th>\n",
       "      <td>12/20/2019</td>\n",
       "      <td>1.11197</td>\n",
       "      <td>1.11246</td>\n",
       "      <td>1.10661</td>\n",
       "      <td>1.10748</td>\n",
       "      <td>-0.00448</td>\n",
       "      <td>119919.0</td>\n",
       "    </tr>\n",
       "  </tbody>\n",
       "</table>\n",
       "</div>"
      ],
      "text/plain": [
       "       Date Time     Open     High      Low    Close   Change    Volume\n",
       "2059  12/16/2019  1.11295  1.11577  1.11225  1.11433  0.00255  114831.0\n",
       "2060  12/17/2019  1.11433  1.11740  1.11290  1.11500  0.00067  141052.0\n",
       "2061  12/18/2019  1.11498  1.11538  1.11104  1.11122 -0.00378  121727.0\n",
       "2062  12/19/2019  1.11123  1.11438  1.11073  1.11196  0.00074  139068.0\n",
       "2063  12/20/2019  1.11197  1.11246  1.10661  1.10748 -0.00448  119919.0"
      ]
     },
     "execution_count": 11,
     "metadata": {},
     "output_type": "execute_result"
    }
   ],
   "source": [
    "new_df.tail()"
   ]
  },
  {
   "cell_type": "code",
   "execution_count": 12,
   "metadata": {},
   "outputs": [],
   "source": [
    "'''\n",
    "    Objective:  sample a dataframe for the historical volatility, find the mean over the iterations and probability \n",
    "                that vol is greater than a certain vol over that period.  \n",
    "    INPUT:\n",
    "    dataframe: the dataframe to sample from\n",
    "    iterations: how many iterations\n",
    "    range_btw_dates: range of dates to sample in consecutive order\n",
    "    \n",
    "    straddle_to_compare: straddle to calculate what percentage of the iterations were greater \n",
    "    lost_threshold: straddle of stop loss to calculate what percentage of the iterations were greater, \n",
    "    the downside stop loss percentage\n",
    "    profit_objective: straddle of objective profit to calculate what percentage of the iterations were greater, \n",
    "    the upside, profit taking\n",
    "    \n",
    "    OUTPUT:\n",
    "    Return the list of sample means, print a variety of statistics around the sample means.  \n",
    "'''\n",
    "\n",
    "def option_calc_group_days(df, iterations, range_btw_dates, straddle_to_compare,\n",
    "                           lost_threshold, profit_objective, replace = True):\n",
    "    x = 0\n",
    "    moves = []\n",
    "    max_index = len(df) - range_btw_dates\n",
    "    while x < iterations:\n",
    "        the_sample = df.sample()\n",
    "        the_dex = min(df.index.get_loc(the_sample.iloc[0].name), max_index)\n",
    "        plus_the_dex = the_dex + range_btw_dates\n",
    "        \n",
    "        the_new_df = df[the_dex:plus_the_dex]\n",
    "        start_price = the_new_df['Close'].iloc[0]\n",
    "        end_price = the_new_df['Close'].iloc[(range_btw_dates - 1)]\n",
    "        \n",
    "        #calculate the move and multiply by two for straddle price\n",
    "        \n",
    "        the_move = (np.abs(start_price - end_price)) \n",
    "        \n",
    "        moves.append(the_move)\n",
    "    \n",
    "        x = x + 1 \n",
    "    mean = np.mean(moves)\n",
    "    \n",
    "    mean = round(mean, 5)\n",
    "    per_above_vol = round((len([i for i in moves if i > straddle_to_compare]) )/iterations, 4)\n",
    "    \n",
    "    per_above_lost_threshold = round((len([i for i in moves if i > lost_threshold]) )/iterations, 4)\n",
    "    \n",
    "    per_above_profit_objective = round((len([i for i in moves if i > profit_objective]) )/iterations, 4)\n",
    "    \n",
    "    \n",
    "    min_move = round(min(moves), 5)\n",
    "    max_move = round(max(moves), 5)\n",
    "    \n",
    "    \n",
    "    \n",
    "    \n",
    "    print('The date range includes',len(df), 'days')\n",
    "    print(range_btw_dates, 'day time periods were sampled')\n",
    "    print('The straddle price as per the mean move is:', mean)\n",
    "    print('The max straddle in the sample was:', max_move)\n",
    "    print('The min straddle in the sample was:', min_move)\n",
    "    print('The percentage of sample groups that had mean straddles above', straddle_to_compare , 'is:',\n",
    "          per_above_vol)\n",
    "    print('The percentage of sample groups that had mean straddles above', lost_threshold , 'is:',\n",
    "          per_above_lost_threshold)\n",
    "    print('The percentage of sample groups that had mean straddles above', profit_objective , 'is:',\n",
    "          per_above_profit_objective)\n",
    "    \n",
    "    \n",
    "    return moves\n",
    "    \n",
    "    \n"
   ]
  },
  {
   "cell_type": "code",
   "execution_count": 13,
   "metadata": {},
   "outputs": [
    {
     "name": "stdout",
     "output_type": "stream",
     "text": [
      "The date range includes 42 days\n",
      "7 day time periods were sampled\n",
      "The straddle price as per the mean move is: 0.00561\n",
      "The max straddle in the sample was: 0.01331\n",
      "The min straddle in the sample was: 0.00014\n",
      "The percentage of sample groups that had mean straddles above 0.0045 is: 0.7626\n",
      "The percentage of sample groups that had mean straddles above 0.0035 is: 0.8313\n",
      "The percentage of sample groups that had mean straddles above 0.0075 is: 0.1851\n"
     ]
    }
   ],
   "source": [
    "the_list = option_calc_group_days(new_df, 10000, 7,.0045, .0035, .0075,  replace = True)"
   ]
  },
  {
   "cell_type": "code",
   "execution_count": 14,
   "metadata": {},
   "outputs": [
    {
     "data": {
      "image/png": "[encoded data removed]",
      "text/plain": [
       "<Figure size 432x288 with 1 Axes>"
      ]
     },
     "metadata": {},
     "output_type": "display_data"
    }
   ],
   "source": [
    "num_bins = 25\n",
    "x = the_list\n",
    "n, bins, patches = plt.hist(x, num_bins, facecolor='blue', alpha=0.5)\n",
    "plt.show()"
   ]
  },
  {
   "cell_type": "code",
   "execution_count": null,
   "metadata": {},
   "outputs": [],
   "source": []
  },
  {
   "cell_type": "code",
   "execution_count": null,
   "metadata": {},
   "outputs": [],
   "source": []
  }
 ],
 "metadata": {
  "kernelspec": {
   "display_name": "Python 3",
   "language": "python",
   "name": "python3"
  },
  "language_info": {
   "codemirror_mode": {
    "name": "ipython",
    "version": 3
   },
   "file_extension": ".py",
   "mimetype": "text/x-python",
   "name": "python",
   "nbconvert_exporter": "python",
   "pygments_lexer": "ipython3",
   "version": "3.6.5"
  }
 },
 "nbformat": 4,
 "nbformat_minor": 2
}
